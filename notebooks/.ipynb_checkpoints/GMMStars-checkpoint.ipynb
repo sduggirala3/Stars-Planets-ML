{
 "cells": [
  {
   "cell_type": "code",
   "execution_count": 0,
   "metadata": {
    "colab": {},
    "colab_type": "code",
    "id": "yLDP9nP-RewD"
   },
   "outputs": [],
   "source": [
    "import numpy as np\n",
    "import pandas as pd\n",
    "import matplotlib.pyplot as plt\n",
    "from mpl_toolkits.mplot3d import Axes3D\n",
    "from sklearn.mixture import GaussianMixture as GMM\n",
    "from sklearn.decomposition import PCA\n"
   ]
  },
  {
   "cell_type": "code",
   "execution_count": 23,
   "metadata": {
    "colab": {
     "base_uri": "https://localhost:8080/",
     "height": 255
    },
    "colab_type": "code",
    "executionInfo": {
     "elapsed": 4071,
     "status": "ok",
     "timestamp": 1554832001939,
     "user": {
      "displayName": "Karthik Yadavalli",
      "photoUrl": "https://lh3.googleusercontent.com/-bZ6yZuCIUWs/AAAAAAAAAAI/AAAAAAAAPGw/Pm6FF0M4G8g/s64/photo.jpg",
      "userId": "07809726609903294493"
     },
     "user_tz": 240
    },
    "id": "hfhScr1nrY1Y",
    "outputId": "08b41dc0-6aec-42fd-effa-846284261e45"
   },
   "outputs": [
    {
     "name": "stdout",
     "output_type": "stream",
     "text": [
      "size: 24\n",
      "[[ 2.00000000e-02 -1.40000000e-01 -6.00000000e-02 ...  5.56785736e+03\n",
      "   3.96104097e+00  0.00000000e+00]\n",
      " [ 3.50000000e-01 -3.00046296e-02 -2.43602843e-02 ...  5.61700000e+03\n",
      "   4.51000000e+00  0.00000000e+00]\n",
      " [-3.50000000e-01 -4.50000000e-01 -2.40000000e-01 ...  5.00200000e+03\n",
      "   3.13000000e+00  0.00000000e+00]\n",
      " ...\n",
      " [ 2.50000000e-01  3.80000000e-01  2.00000000e-02 ...  5.58430000e+03\n",
      "   4.46000000e+00  0.00000000e+00]\n",
      " [-1.00000000e-01 -2.00000000e-02 -2.00000000e-02 ...  6.44220000e+03\n",
      "   4.10000000e+00  0.00000000e+00]\n",
      " [-1.40000000e-01  2.20000000e-01 -1.60000000e-01 ...  4.63600000e+03\n",
      "   2.65000000e+00  0.00000000e+00]]\n"
     ]
    }
   ],
   "source": [
    "# Accessing Data\n",
    "\n",
    "from google.colab import auth\n",
    "auth.authenticate_user()\n",
    "\n",
    "import gspread\n",
    "from oauth2client.client import GoogleCredentials\n",
    "\n",
    "gc = gspread.authorize(GoogleCredentials.get_application_default())\n",
    "\n",
    "def isFloat(string):\n",
    "    try:\n",
    "        float(string)\n",
    "        return True\n",
    "    except ValueError:\n",
    "        return False\n",
    "\n",
    "# Open our new sheet and read some data.\n",
    "worksheet = gc.open('Numeric Hypatia Data').sheet1\n",
    "rows = worksheet.get_all_values()\n",
    "headers = rows[0]\n",
    "star_data = np.array([[float(x) if isFloat(x) else np.nan for x in row ] for row in rows[1:]])\n",
    "#star_data\n",
    "numstars = len(star_data)\n",
    "\n",
    "col_mean = np.nanmean(star_data, axis=0)\n",
    "inds = np.where(np.isnan(star_data))\n",
    "star_data[inds] = np.take(col_mean, inds[1])\n",
    "#star_data\n",
    "\n",
    "star_data=np.delete(star_data,15,axis=1)\n",
    "print(\"size: \"+str(len(star_data[0])))\n",
    "print(star_data)"
   ]
  },
  {
   "cell_type": "code",
   "execution_count": 24,
   "metadata": {
    "colab": {
     "base_uri": "https://localhost:8080/",
     "height": 493
    },
    "colab_type": "code",
    "executionInfo": {
     "elapsed": 110770,
     "status": "ok",
     "timestamp": 1554832119803,
     "user": {
      "displayName": "Karthik Yadavalli",
      "photoUrl": "https://lh3.googleusercontent.com/-bZ6yZuCIUWs/AAAAAAAAAAI/AAAAAAAAPGw/Pm6FF0M4G8g/s64/photo.jpg",
      "userId": "07809726609903294493"
     },
     "user_tz": 240
    },
    "id": "aN0a1JIz5Fqt",
    "outputId": "4c1e339c-d63e-42c1-a565-af09b2c7faf1"
   },
   "outputs": [
    {
     "name": "stdout",
     "output_type": "stream",
     "text": [
      "1 Max Host probability: 0.05880441845354126\n",
      "2 Max Host probability: 0.06392611372691054\n",
      "3 Max Host probability: 0.07492447129909366\n",
      "4 Max Host probability: 0.086\n",
      "5 Max Host probability: 0.07942238267148015\n",
      "6 Max Host probability: 0.0790333115610712\n",
      "7 Max Host probability: 0.08188153310104529\n",
      "8 Max Host probability: 0.0958904109589041\n",
      "9 Max Host probability: 0.09744779582366589\n",
      "10 Max Host probability: 0.1130718954248366\n",
      "11 Max Host probability: 0.11979166666666667\n",
      "12 Max Host probability: 0.11661807580174927\n",
      "13 Max Host probability: 0.12585812356979406\n",
      "14 Max Host probability: 0.12862108922363846\n",
      "15 Max Host probability: 0.1461038961038961\n",
      "16 Max Host probability: 0.14701803051317613\n",
      "17 Max Host probability: 0.145\n",
      "18 Max Host probability: 0.1476407914764079\n",
      "19 Max Host probability: 0.11298838437170011\n",
      "20 Max Host probability: 0.16270566727605118\n",
      "Highest probability: 0.16270566727605118\n",
      "Produced with 20 clusters at cluster: 6\n",
      "Region: [-2.93283133e-02  5.03602966e-02 -1.53490012e-02  3.43971824e-02\n",
      " -7.32166939e-03  9.30241049e-03  5.28003071e-02  2.31007203e-01\n",
      "  1.68529805e+02 -2.02232548e+00  7.54918397e-01  3.41386500e-01\n",
      "  6.28223099e-01  2.37013564e+01  1.00000000e+00  1.76020156e+01\n",
      "  7.04569837e+00  8.03480682e-01 -1.43587653e+01 -2.12948315e+01\n",
      " -7.43672275e+00  5.32321937e+03  4.37223241e+00]\n"
     ]
    }
   ],
   "source": [
    "#[THIS IS DONE. MOVE TO STARS.IPYNB]\n",
    "\n",
    "bestmeans=[[]]\n",
    "maxmaxprobability=0\n",
    "maxcluster1=0\n",
    "bestnumclusters=0\n",
    "best_cluster_assignment=[]\n",
    "for i in range(20):\n",
    "  numclusters=i+1\n",
    "\n",
    "  data=np.delete(star_data,-1,axis=1)\n",
    "  gmm = GMM(n_components=numclusters) #4 clusters: F, G, K, and M\n",
    "  gmm.fit(data)\n",
    "\n",
    "  cluster_means = gmm.means_\n",
    "  cluster_weights_ = gmm.weights_\n",
    "  cluster_covariance = gmm.covariances_\n",
    "\n",
    "  clusterAssignment = gmm.fit_predict(data)\n",
    "  probabilities = gmm.predict_proba(data)\n",
    "\n",
    "\n",
    "  clusterAssignments=clusterAssignment\n",
    "  hostprobability=[]\n",
    "  hostdata=star_data[:,-1]\n",
    "  starspercluster=np.zeros(numclusters)\n",
    "  for c in range(numclusters):\n",
    "    for assignment in clusterAssignment:\n",
    "      if(assignment==c):\n",
    "        starspercluster[c]=starspercluster[c]+1\n",
    "  if i==14:\n",
    "    clusterAssignment1=clusterAssignments\n",
    "  for c in range(numclusters):\n",
    "    numstars=starspercluster[c]\n",
    "    numhosts=0\n",
    "    for a in range(len(clusterAssignments)):\n",
    "      if (clusterAssignments[a]==c and hostdata[a]==1):\n",
    "\n",
    "        numhosts=numhosts+1\n",
    "\n",
    "    hostprobability.append(numhosts/numstars)\n",
    "  #print(str(i+1)+\" Host probabilities: \"+str(hostprobability))\n",
    "  maxhostprob=np.max(hostprobability)\n",
    "\n",
    "  print(str(i+1)+\" Max Host probability: \"+str(maxhostprob))\n",
    "  if maxhostprob>maxmaxprobability:\n",
    "    maxmaxprobability=maxhostprob\n",
    "    bestmeans=cluster_means\n",
    "    maxcluster1=np.argmax(hostprobability)\n",
    "    bestnumclusters=numclusters\n",
    "    best_cluster_assignment=clusterAssignment\n",
    "  maxcluster=np.argmax(hostprobability)\n",
    "  #print(str(i+1)+\" Max cluster: \"+str(np.argmax(hostprobability)))\n",
    "  #print(str(i+1)+\" Region: Mean\"+str(cluster_means[maxcluster]))\n",
    "print(\"Highest probability: \"+str(maxmaxprobability))\n",
    "print(\"Produced with \"+str(bestnumclusters)+\" clusters at cluster: \"+str(maxcluster1))\n",
    "print(\"Region: \"+str(bestmeans[maxcluster1]))\n",
    "best_means=bestmeans[maxcluster1]"
   ]
  },
  {
   "cell_type": "code",
   "execution_count": 25,
   "metadata": {
    "colab": {
     "base_uri": "https://localhost:8080/",
     "height": 510
    },
    "colab_type": "code",
    "executionInfo": {
     "elapsed": 690,
     "status": "ok",
     "timestamp": 1554832127256,
     "user": {
      "displayName": "Karthik Yadavalli",
      "photoUrl": "https://lh3.googleusercontent.com/-bZ6yZuCIUWs/AAAAAAAAAAI/AAAAAAAAPGw/Pm6FF0M4G8g/s64/photo.jpg",
      "userId": "07809726609903294493"
     },
     "user_tz": 240
    },
    "id": "kJVDKtLP-BgF",
    "outputId": "12e869e8-63d4-48b9-8ff9-94848e9bc12e"
   },
   "outputs": [
    {
     "name": "stdout",
     "output_type": "stream",
     "text": [
      "[-2.93283133e-02  5.03602966e-02 -1.53490012e-02  3.43971824e-02\n",
      " -7.32166939e-03  9.30241049e-03  5.28003071e-02  2.31007203e-01\n",
      "  1.68529805e+02 -2.02232548e+00  7.54918397e-01  3.41386500e-01\n",
      "  6.28223099e-01  2.37013564e+01  1.00000000e+00  1.76020156e+01\n",
      "  7.04569837e+00  8.03480682e-01 -1.43587653e+01 -2.12948315e+01\n",
      " -7.43672275e+00  5.32321937e+03  4.37223241e+00]\n",
      "Fe: -0.02932831329966171\n",
      "C: 0.05036029663126522\n",
      "O: -0.015349001174026952\n",
      "Mg: 0.034397182443670675\n",
      "Si: -0.007321669388931912\n",
      "Ca: 0.009302410490350558\n",
      "Ti: 0.052800307110095264\n",
      "S: 0.23100720286243218\n",
      "f_ra: 168.52980527770492\n",
      "f_dec: -2.0223254832304978\n",
      "f_x: 0.7549183965390853\n",
      "f_y: 0.34138650039773655\n",
      "f_z: 0.6282230992787348\n",
      "f_dist: 23.7013563548718\n",
      "f_disk_num: 1.0000000000000029\n",
      "f_spec_num: 17.60201558545581\n",
      "f_vmag: 7.045698370170235\n",
      "f_bv: 0.803480681592069\n",
      "f_u: -14.358765272712334\n",
      "f_v: -21.294831527918568\n",
      "f_w: -7.436722745843674\n",
      "f_teff: 5323.21937426754\n",
      "f_logg: 4.372232410655149\n"
     ]
    }
   ],
   "source": [
    "#[THIS IS DONE. MOVE TO STARS.IPYNB]\n",
    "#above 2 print statements should output same number\n",
    "#dimension_labels=\n",
    "#for (i in range(len(dimension_labels))):\n",
    " # if (i<8 or ):\n",
    "print(best_means)\n",
    "headers=np.delete(headers,-1) #remove the data from \n",
    "headers=np.delete(headers,15)\n",
    "for i in range(len(headers)):\n",
    "  currlabel=headers[i]\n",
    "  print(currlabel+\": \"+str(best_means[i]))\n"
   ]
  },
  {
   "cell_type": "code",
   "execution_count": 0,
   "metadata": {
    "colab": {},
    "colab_type": "code",
    "id": "9mj43sMjKfpr"
   },
   "outputs": [],
   "source": []
  },
  {
   "cell_type": "code",
   "execution_count": 0,
   "metadata": {
    "colab": {},
    "colab_type": "code",
    "id": "Jzs4Ig_zI0TQ"
   },
   "outputs": [],
   "source": [
    "\n",
    "#[THIS IS DONE. MOVE TO STARS.IPYNB]\n",
    "#purity score for the clustering using sklearn metrics\n",
    "\n",
    "#extract column with y_true\n",
    "\n",
    "y_true = star_data[:,15]\n",
    "print(y_true)\n",
    "\n",
    "#extract column with y_pred\n",
    "\n",
    "y_pred = best_cluster_assignment\n",
    "\n",
    "\n",
    "def purity_score(y_true, y_pred):\n",
    "  # compute contingency matrix (also called confusion matrix)\n",
    "  contingency_matrix = metrics.cluster.contingency_matrix(y_true, y_pred)\n",
    "  # return purity\n",
    "  return np.sum(np.amax(contingency_matrix, axis=0)) / np.sum(contingency_matrix)\n",
    "  \n",
    "purity_score(y_true, y_pred)"
   ]
  },
  {
   "cell_type": "code",
   "execution_count": 0,
   "metadata": {
    "colab": {},
    "colab_type": "code",
    "id": "5pgsRPbXBaeb"
   },
   "outputs": [],
   "source": [
    "#create a color assignment array, turning the cluster assignments into colors\n",
    "colorAssignment=[]\n",
    "for cluster in clusterAssignment:\n",
    "  if (cluster == 0):\n",
    "    colorAssignment.append('b')\n",
    "  elif (cluster == 1):\n",
    "    colorAssignment.append('r')\n",
    "  elif (cluster == 2):\n",
    "    colorAssignment.append('y')\n",
    "  elif (cluster == 3):\n",
    "    colorAssignment.append('g')"
   ]
  },
  {
   "cell_type": "code",
   "execution_count": 0,
   "metadata": {
    "colab": {
     "base_uri": "https://localhost:8080/",
     "height": 619
    },
    "colab_type": "code",
    "executionInfo": {
     "elapsed": 4357,
     "status": "ok",
     "timestamp": 1554226124649,
     "user": {
      "displayName": "Soujanya Duggirala",
      "photoUrl": "https://lh5.googleusercontent.com/-VEAZx5qSKYU/AAAAAAAAAAI/AAAAAAAAG6I/0_WCiRo6coY/s64/photo.jpg",
      "userId": "06686852266239372507"
     },
     "user_tz": 240
    },
    "id": "I39DF8vHGeev",
    "outputId": "434fbc01-1474-4281-ffc4-ad38858ef813"
   },
   "outputs": [
    {
     "name": "stdout",
     "output_type": "stream",
     "text": [
      "(6156, 24)\n",
      "Shape of U(6156, 6156)\n",
      "Shape of S(24,)\n",
      "Shape of V(24, 24)\n",
      "Shape of new U(6156, 24)\n",
      "Shape of new S(24,)\n",
      "Shape of new V(24, 24)\n",
      "(6156, 24)\n",
      "[[-0.06535218 -0.07130265]\n",
      " [-0.17906534 -0.08446201]\n",
      " [-0.06201614 -0.03885502]\n",
      " ...\n",
      " [-0.05705281 -0.01669133]\n",
      " [ 0.01234925  0.07918106]\n",
      " [ 0.04712436 -0.05848657]]\n"
     ]
    },
    {
     "data": {
      "text/plain": [
       "<matplotlib.collections.PathCollection at 0x7f5a95b22b38>"
      ]
     },
     "execution_count": 68,
     "metadata": {
      "tags": []
     },
     "output_type": "execute_result"
    },
    {
     "data": {
      "image/png": "[encoded data removed]",
      "text/plain": [
       "<Figure size 576x396 with 1 Axes>"
      ]
     },
     "metadata": {
      "tags": []
     },
     "output_type": "display_data"
    }
   ],
   "source": [
    "print(star_data.shape)\n",
    "def centerX(star_data):\n",
    "  return star_data-np.mean(star_data, axis = 0)\n",
    "\n",
    "#plt.scatter(star_data[:, 0], star_data[:, 1], 2, clusterAssignments*50)\n",
    "\n",
    "\n",
    "    \n",
    "def svd(X):\n",
    "    \"\"\"\n",
    "    Do SVD. You could use numpy SVD.\n",
    "    Args: \n",
    "        X: 32*4096\n",
    "    Return:\n",
    "        U: 32*32\n",
    "        S: 32*1\n",
    "        V: 4096*4096        \n",
    "    \"\"\"\n",
    "    U, S, V = np.linalg.svd(X)\n",
    "    print(\"Shape of U\"+str(U.shape))\n",
    "    print(\"Shape of S\"+str(S.shape))\n",
    "    print(\"Shape of V\"+str(V.shape))\n",
    "    return U, S, V\n",
    "\n",
    "def rebuildsvd(U, S, V, k):\n",
    "    \"\"\"\n",
    "    Rebuild SVD by k componments.\n",
    "    Args: \n",
    "        U: 32*32\n",
    "        S: 32*1\n",
    "        V: 4096*4096   \n",
    "        k: int\n",
    "    Return:\n",
    "        Xrebuild: 32*4096\n",
    "    \"\"\"\n",
    "    newU=U[:,:k]\n",
    "    newS=S[0:k]\n",
    "    newV=V[:,:k]\n",
    "    print(\"Shape of new U\"+str(newU.shape))\n",
    "    print(\"Shape of new S\"+str(newS.shape))\n",
    "    print(\"Shape of new V\"+str(newV.shape))\n",
    "    Xrebuild=newU.dot((np.diag(newS)).dot(newV.transpose()))\n",
    "    return Xrebuild\n",
    "  \n",
    "  #return np.matmul(     np.matmul(U[:, [i for i in range(k)]], np.diag(S)[:k, :k])            , V[0:k])\n",
    "\n",
    "X = centerX(star_data)\n",
    "U, S, V = svd(X)\n",
    "#print(U.shape)\n",
    "#print(V.shape)\n",
    "#print(S.shape)\n",
    "k = 24\n",
    "dim_red = rebuildsvd(U, S, V, k)\n",
    "#print(dim_red)\n",
    "\n",
    "print(dim_red.shape)\n",
    "print(dim_red[:, :2])\n",
    "\n",
    "clusterAssignments=clusterAssignments*50\n",
    "plt.scatter(dim_red[:, 10], dim_red[:, 5], 2, colorAssignment)\n",
    "\n",
    "#PCA(n_components=2, copy=True, whiten=False, svd_solver=’auto’, tol=0.0, iterated_power=’auto’, random_state=None)\n"
   ]
  },
  {
   "cell_type": "code",
   "execution_count": 0,
   "metadata": {
    "colab": {
     "base_uri": "https://localhost:8080/",
     "height": 347
    },
    "colab_type": "code",
    "executionInfo": {
     "elapsed": 2258,
     "status": "ok",
     "timestamp": 1554226888576,
     "user": {
      "displayName": "Soujanya Duggirala",
      "photoUrl": "https://lh5.googleusercontent.com/-VEAZx5qSKYU/AAAAAAAAAAI/AAAAAAAAG6I/0_WCiRo6coY/s64/photo.jpg",
      "userId": "06686852266239372507"
     },
     "user_tz": 240
    },
    "id": "jPPC-boRHEOf",
    "outputId": "2ab7e1b0-06c1-45e3-a894-486a5df44105"
   },
   "outputs": [
    {
     "data": {
      "text/plain": [
       "<mpl_toolkits.mplot3d.art3d.Path3DCollection at 0x7f5a90595080>"
      ]
     },
     "execution_count": 100,
     "metadata": {
      "tags": []
     },
     "output_type": "execute_result"
    },
    {
     "data": {
      "image/png": "[encoded data removed]",
      "text/plain": [
       "<Figure size 576x396 with 1 Axes>"
      ]
     },
     "metadata": {
      "tags": []
     },
     "output_type": "display_data"
    }
   ],
   "source": [
    "#General Visualizing Clusters\n",
    "\n",
    "fig = plt.figure()\n",
    "ax = fig.add_subplot(111, projection='3d')\n",
    "\n",
    "ax.scatter(xs = dim_red[:, 13], ys = dim_red[:, 2], zs=dim_red[:, 5], zdir='z', c = colorAssignment)"
   ]
  },
  {
   "cell_type": "code",
   "execution_count": 0,
   "metadata": {
    "colab": {},
    "colab_type": "code",
    "id": "RzTlyZzgJa66"
   },
   "outputs": [],
   "source": [
    "# Show ground truth"
   ]
  },
  {
   "cell_type": "code",
   "execution_count": 0,
   "metadata": {
    "colab": {},
    "colab_type": "code",
    "id": "3HaYTlsKJc50"
   },
   "outputs": [],
   "source": [
    "# show host probability"
   ]
  }
 ],
 "metadata": {
  "colab": {
   "collapsed_sections": [],
   "name": "GMMStars.ipynb",
   "provenance": [],
   "version": "0.3.2"
  },
  "kernelspec": {
   "display_name": "Python 3",
   "language": "python",
   "name": "python3"
  },
  "language_info": {
   "codemirror_mode": {
    "name": "ipython",
    "version": 3
   },
   "file_extension": ".py",
   "mimetype": "text/x-python",
   "name": "python",
   "nbconvert_exporter": "python",
   "pygments_lexer": "ipython3",
   "version": "3.7.1"
  }
 },
 "nbformat": 4,
 "nbformat_minor": 1
}
